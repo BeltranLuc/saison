{
 "cells": [
  {
   "cell_type": "code",
   "execution_count": 1,
   "metadata": {},
   "outputs": [],
   "source": [
    "import os\n",
    "import shutil\n",
    "import pickle\n",
    "import errno "
   ]
  },
  {
   "cell_type": "code",
   "execution_count": 2,
   "metadata": {},
   "outputs": [],
   "source": [
    "source_folder = 'databrut'\n",
    "\n",
    "def delete_folder(folder_path):\n",
    "    \"\"\"Deletes a folder and its contents.\n",
    "\n",
    "    Args:\n",
    "        folder_path (str): The path to the folder to delete.\n",
    "    \"\"\"\n",
    "\n",
    "    if not os.path.exists(folder_path):\n",
    "        print(f\"Folder '{folder_path}' does not exist.\")\n",
    "        return\n",
    "\n",
    "    try:\n",
    "        os.rmdir(folder_path)\n",
    "        print(f\"Folder '{folder_path}' deleted successfully.\")\n",
    "    except OSError as e:\n",
    "        if e.errno == errno.ENOTEMPTY:\n",
    "            print(f\"Error deleting folder '{folder_path}': Folder is not empty.\")\n",
    "        else:\n",
    "            print(f\"Error deleting folder '{folder_path}': {e}\")"
   ]
  },
  {
   "cell_type": "markdown",
   "metadata": {},
   "source": [
    "# Dataset YOLO"
   ]
  },
  {
   "cell_type": "code",
   "execution_count": 3,
   "metadata": {},
   "outputs": [],
   "source": [
    "fruit_list = sorted(os.listdir(source_folder))\n",
    "fruit_to_idx = {fruit : i for i, fruit in enumerate(fruit_list)}\n",
    "\n",
    "dataset = {\n",
    "            'images': {\n",
    "                'train': [],\n",
    "                'val': []\n",
    "            },\n",
    "            'labels': {\n",
    "                'train': [],\n",
    "                'val': []\n",
    "            }\n",
    "        }\n",
    "\n",
    "for fruit in fruit_list:\n",
    "    images_path = os.path.join(source_folder, fruit)\n",
    "    labels_path = os.path.join(images_path, 'Label')\n",
    "\n",
    "    images = sorted([f for f in os.listdir(images_path) if f.endswith('.jpg')])[:400]\n",
    "    labels = sorted([f for f in os.listdir(labels_path) if f.endswith('.txt')])[:400]\n",
    "\n",
    "    if len(images) != len(labels):\n",
    "        raise ValueError(f\"Le nombre d'images et de labels ne correspond pas dans le dossier '{fruit}'\")\n",
    "\n",
    "    split_point = int(len(images) * 0.8)\n",
    "\n",
    "    dataset['images']['train'].extend([os.path.join(images_path, img) for img in images[:split_point]])\n",
    "    dataset['images']['val'].extend([os.path.join(images_path, img) for img in images[split_point:]])\n",
    "\n",
    "    dataset['labels']['train'].extend([os.path.join(labels_path, lbl) for lbl in labels[:split_point]])\n",
    "    dataset['labels']['val'].extend([os.path.join(labels_path, lbl) for lbl in labels[split_point:]])\n"
   ]
  },
  {
   "cell_type": "code",
   "execution_count": 4,
   "metadata": {},
   "outputs": [
    {
     "name": "stdout",
     "output_type": "stream",
     "text": [
      "Error deleting folder 'datasets/yolo/images': Folder is not empty.\n",
      "Error deleting folder 'datasets/yolo/labels': Folder is not empty.\n"
     ]
    }
   ],
   "source": [
    "# Chemin vers le dossier brut de données\n",
    "data_brut_path = 'databrut'\n",
    "\n",
    "# Chemin vers le dossier où vous voulez créer la structure finale\n",
    "dataset_path = os.path.join('datasets', 'yolo')\n",
    "\n",
    "# supression des dossiers images et labels avant de les remplir\n",
    "delete_folder(os.path.join(dataset_path, 'images'))\n",
    "delete_folder(os.path.join(dataset_path, 'labels'))\n",
    "\n",
    "# Créer les répertoires nécessaires\n",
    "def create_directories(base_path):\n",
    "    os.makedirs(os.path.join(base_path, 'images/train'), exist_ok=True)\n",
    "    os.makedirs(os.path.join(base_path, 'images/val'), exist_ok=True)\n",
    "    os.makedirs(os.path.join(base_path, 'labels/train'), exist_ok=True)\n",
    "    os.makedirs(os.path.join(base_path, 'labels/val'), exist_ok=True)\n",
    "\n",
    "# Copier les fichiers d'images et de labels\n",
    "def copy_files(src_paths, dest_base_path, subfolder):\n",
    "    for src in src_paths:\n",
    "        src_file = src\n",
    "        relative_path = os.path.relpath(src_file, start=data_brut_path)\n",
    "        dest_file = os.path.join(dest_base_path, subfolder)\n",
    "        dest_folder = os.path.dirname(dest_file)\n",
    "        os.makedirs(dest_folder, exist_ok=True)\n",
    "        shutil.copy(src_file, dest_file)\n",
    "\n",
    "# Créer la structure de répertoires\n",
    "create_directories(dataset_path)\n",
    "\n",
    "# Copier les fichiers d'images et de labels\n",
    "for split in ['train', 'val']:\n",
    "    copy_files(dataset['images'][split], dataset_path, f'images/{split}')\n",
    "    copy_files(dataset['labels'][split], dataset_path, f'labels/{split}')"
   ]
  },
  {
   "cell_type": "code",
   "execution_count": null,
   "metadata": {},
   "outputs": [],
   "source": [
    "def modify_txt_files(directory, fruit_to_id):\n",
    "    for filename in os.listdir(directory):\n",
    "        if filename.endswith(\".txt\"):\n",
    "            filepath = os.path.join(directory, filename)\n",
    "            with open(filepath, \"r\") as f:\n",
    "                lines = f.readlines()  \n",
    "  \n",
    "\n",
    "            new_lines = []\n",
    "            for line in lines:\n",
    "                values = line.strip().split()\n",
    "                if len(values) == 6:\n",
    "                    # Cas particulier pour \"Bell pepper\"\n",
    "                    class_name = \"Bell pepper\"\n",
    "                    _, _,x, y, w, h = values\n",
    "                else:\n",
    "                    class_name, x, y, w, h = values\n",
    "                \n",
    "                class_id = fruit_to_id.get(class_name, -1)  # Get ID, default -1 if not found\n",
    "                if class_id != -1:  # Only modify if class is found\n",
    "                    new_line = f\"{class_id} {x} {y} {w} {h}\\n\"\n",
    "                    new_lines.append(new_line)\n",
    "\n",
    "            with open(filepath, \"w\") as f:\n",
    "                f.writelines(new_lines)\n",
    "\n",
    "# Replace \"your_directory\" with the actual path to your directory\n",
    "modify_txt_files(\"datasets/yolo/labels/train\", fruit_to_idx)\n",
    "modify_txt_files(\"datasets/yolo/labels/val\", fruit_to_idx)\n"
   ]
  }
 ],
 "metadata": {
  "kernelspec": {
   "display_name": ".venv-saison",
   "language": "python",
   "name": "python3"
  },
  "language_info": {
   "codemirror_mode": {
    "name": "ipython",
    "version": 3
   },
   "file_extension": ".py",
   "mimetype": "text/x-python",
   "name": "python",
   "nbconvert_exporter": "python",
   "pygments_lexer": "ipython3",
   "version": "3.12.3"
  }
 },
 "nbformat": 4,
 "nbformat_minor": 2
}
